{
 "cells": [
  {
   "cell_type": "code",
   "id": "initial_id",
   "metadata": {
    "collapsed": true,
    "ExecuteTime": {
     "end_time": "2024-08-09T17:57:31.646018Z",
     "start_time": "2024-08-09T17:57:30.794323Z"
    }
   },
   "source": [
    "#Importamos las librerias necesarias\n",
    "import pandas as pd\n",
    "import numpy as np\n",
    "import matplotlib.pyplot as plt\n",
    "import seaborn as sns\n",
    "import sklearn\n",
    "import scipy.stats as stats\n",
    "import missingno as msno\n",
    "from sklearn.preprocessing import StandardScaler\n",
    "from sklearn.model_selection import train_test_split\n",
    "\n",
    "#configuraciones generales\n",
    "pd.set_option('display.max_columns', None)\n",
    "\n",
    "randon_generator = np.random.default_rng(45)\n",
    "\n",
    "merge_df = True"
   ],
   "outputs": [],
   "execution_count": 1
  },
  {
   "metadata": {
    "ExecuteTime": {
     "end_time": "2024-08-09T17:59:07.414855Z",
     "start_time": "2024-08-09T17:59:07.162884Z"
    }
   },
   "cell_type": "code",
   "source": [
    "# Importamos el dataset de train\n",
    "df_train = pd.read_csv('data/train.csv')\n",
    "print(df_train.shape)\n",
    "#Importamos el dataset de test\n",
    "df_test = pd.read_csv('data/test.csv')\n",
    "print(df_test.shape)"
   ],
   "id": "fcaecccdde682fca",
   "outputs": [
    {
     "name": "stdout",
     "output_type": "stream",
     "text": [
      "(103904, 25)\n",
      "(25976, 25)\n"
     ]
    }
   ],
   "execution_count": 4
  },
  {
   "metadata": {},
   "cell_type": "code",
   "outputs": [],
   "execution_count": null,
   "source": [
    "\n",
    "# Unimos ambos datasets para separarlos por nuestro lado\n",
    "if merge_df:\n",
    "    df_air = pd.concat([df_train, df_test]).sample(frac=1, random_state=randon_generator)\n",
    "else:\n",
    "    df_air = df_train\n",
    "\n",
    "# O podemos utilz\n",
    "# Borramos la columna Unnamed\n",
    "df_total.drop(columns='Unnamed: 0', inplace=True)\n"
   ],
   "id": "15f7808424705c1c"
  }
 ],
 "metadata": {
  "kernelspec": {
   "display_name": "Python 3",
   "language": "python",
   "name": "python3"
  },
  "language_info": {
   "codemirror_mode": {
    "name": "ipython",
    "version": 2
   },
   "file_extension": ".py",
   "mimetype": "text/x-python",
   "name": "python",
   "nbconvert_exporter": "python",
   "pygments_lexer": "ipython2",
   "version": "2.7.6"
  }
 },
 "nbformat": 4,
 "nbformat_minor": 5
}
