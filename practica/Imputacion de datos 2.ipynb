{
 "cells": [
  {
   "cell_type": "code",
   "execution_count": 1,
   "id": "537dbd9e-1d32-45e3-b5ba-5d6c8a564aa2",
   "metadata": {},
   "outputs": [
    {
     "name": "stderr",
     "output_type": "stream",
     "text": [
      "<frozen importlib._bootstrap>:219: RuntimeWarning: scipy._lib.messagestream.MessageStream size changed, may indicate binary incompatibility. Expected 56 from C header, got 64 from PyObject\n"
     ]
    }
   ],
   "source": [
    "import numpy as np\n",
    "import pandas as pd\n",
    "import plotly.express as px\n",
    "from matplotlib import pyplot as plt\n",
    "from ydata_profiling import ProfileReport\n",
    "\n",
    "from sklearn.feature_extraction import FeatureHasher\n",
    "from sklearn.feature_selection import VarianceThreshold\n",
    "from sklearn.impute import KNNImputer, SimpleImputer\n",
    "from sklearn.preprocessing import (\n",
    "    KBinsDiscretizer,\n",
    "    LabelEncoder,\n",
    "    MinMaxScaler,\n",
    "    Normalizer,\n",
    "    OneHotEncoder,\n",
    "    OrdinalEncoder,\n",
    "    PowerTransformer,\n",
    "    RobustScaler,\n",
    "    StandardScaler,\n",
    ")\n",
    "\n",
    "pd.options.display.max_columns = None"
   ]
  },
  {
   "cell_type": "markdown",
   "id": "92b41a7b-455a-4c4d-abea-e4491c78f3c3",
   "metadata": {},
   "source": [
    "Leemos el dataset, que está en formato CSV desde google drive.\n",
    "Adicionalmente renombro a las columnas en un formato mas comodo de manejar"
   ]
  },
  {
   "cell_type": "code",
   "execution_count": 61,
   "id": "c36aab76-30f8-4fd2-ae64-097688a3e382",
   "metadata": {},
   "outputs": [],
   "source": [
    "df = pd.read_csv(\n",
    "    'https://drive.google.com/uc?export=download&id=1gq-wDn_dwz_5uHSEoMYmQtnNrmnfNiXS'\n",
    ")\n",
    "df.rename(columns={c: c.lower().replace(\" \", \"_\") for c in df.columns}, inplace=True)"
   ]
  },
  {
   "cell_type": "code",
   "execution_count": 42,
   "id": "b9da8353-9ee7-42ba-83bb-e3e5e632c70b",
   "metadata": {},
   "outputs": [
    {
     "data": {
      "text/html": [
       "<div>\n",
       "<style scoped>\n",
       "    .dataframe tbody tr th:only-of-type {\n",
       "        vertical-align: middle;\n",
       "    }\n",
       "\n",
       "    .dataframe tbody tr th {\n",
       "        vertical-align: top;\n",
       "    }\n",
       "\n",
       "    .dataframe thead th {\n",
       "        text-align: right;\n",
       "    }\n",
       "</style>\n",
       "<table border=\"1\" class=\"dataframe\">\n",
       "  <thead>\n",
       "    <tr style=\"text-align: right;\">\n",
       "      <th></th>\n",
       "      <th>name</th>\n",
       "      <th>gender</th>\n",
       "      <th>eye_color</th>\n",
       "      <th>race</th>\n",
       "      <th>hair_color</th>\n",
       "      <th>height</th>\n",
       "      <th>publisher</th>\n",
       "      <th>skin_color</th>\n",
       "      <th>alignment</th>\n",
       "      <th>weight</th>\n",
       "    </tr>\n",
       "  </thead>\n",
       "  <tbody>\n",
       "    <tr>\n",
       "      <th>0</th>\n",
       "      <td>A-Bomb</td>\n",
       "      <td>Male</td>\n",
       "      <td>yellow</td>\n",
       "      <td>Human</td>\n",
       "      <td>No Hair</td>\n",
       "      <td>203.0</td>\n",
       "      <td>Marvel Comics</td>\n",
       "      <td>-</td>\n",
       "      <td>good</td>\n",
       "      <td>441.0</td>\n",
       "    </tr>\n",
       "    <tr>\n",
       "      <th>1</th>\n",
       "      <td>Abe Sapien</td>\n",
       "      <td>Male</td>\n",
       "      <td>blue</td>\n",
       "      <td>Icthyo Sapien</td>\n",
       "      <td>No Hair</td>\n",
       "      <td>191.0</td>\n",
       "      <td>Dark Horse Comics</td>\n",
       "      <td>blue</td>\n",
       "      <td>good</td>\n",
       "      <td>65.0</td>\n",
       "    </tr>\n",
       "    <tr>\n",
       "      <th>2</th>\n",
       "      <td>Abin Sur</td>\n",
       "      <td>Male</td>\n",
       "      <td>blue</td>\n",
       "      <td>Ungaran</td>\n",
       "      <td>No Hair</td>\n",
       "      <td>185.0</td>\n",
       "      <td>DC Comics</td>\n",
       "      <td>red</td>\n",
       "      <td>good</td>\n",
       "      <td>90.0</td>\n",
       "    </tr>\n",
       "    <tr>\n",
       "      <th>3</th>\n",
       "      <td>Abomination</td>\n",
       "      <td>Male</td>\n",
       "      <td>green</td>\n",
       "      <td>Human / Radiation</td>\n",
       "      <td>No Hair</td>\n",
       "      <td>203.0</td>\n",
       "      <td>Marvel Comics</td>\n",
       "      <td>-</td>\n",
       "      <td>bad</td>\n",
       "      <td>441.0</td>\n",
       "    </tr>\n",
       "    <tr>\n",
       "      <th>4</th>\n",
       "      <td>Abraxas</td>\n",
       "      <td>Male</td>\n",
       "      <td>blue</td>\n",
       "      <td>Cosmic Entity</td>\n",
       "      <td>Black</td>\n",
       "      <td>-99.0</td>\n",
       "      <td>Marvel Comics</td>\n",
       "      <td>-</td>\n",
       "      <td>bad</td>\n",
       "      <td>-99.0</td>\n",
       "    </tr>\n",
       "  </tbody>\n",
       "</table>\n",
       "</div>"
      ],
      "text/plain": [
       "          name gender eye_color               race hair_color  height  \\\n",
       "0       A-Bomb   Male    yellow              Human    No Hair   203.0   \n",
       "1   Abe Sapien   Male      blue      Icthyo Sapien    No Hair   191.0   \n",
       "2     Abin Sur   Male      blue            Ungaran    No Hair   185.0   \n",
       "3  Abomination   Male     green  Human / Radiation    No Hair   203.0   \n",
       "4      Abraxas   Male      blue      Cosmic Entity      Black   -99.0   \n",
       "\n",
       "           publisher skin_color alignment  weight  \n",
       "0      Marvel Comics          -      good   441.0  \n",
       "1  Dark Horse Comics       blue      good    65.0  \n",
       "2          DC Comics        red      good    90.0  \n",
       "3      Marvel Comics          -       bad   441.0  \n",
       "4      Marvel Comics          -       bad   -99.0  "
      ]
     },
     "execution_count": 42,
     "metadata": {},
     "output_type": "execute_result"
    }
   ],
   "source": [
    "df.head()"
   ]
  },
  {
   "cell_type": "code",
   "execution_count": 45,
   "id": "aaeb6807-174f-4ecf-8a45-92aae969ae3e",
   "metadata": {},
   "outputs": [
    {
     "data": {
      "text/plain": [
       "0        NaN\n",
       "1       blue\n",
       "2        red\n",
       "3        NaN\n",
       "4        NaN\n",
       "       ...  \n",
       "729      NaN\n",
       "730    white\n",
       "731    green\n",
       "732      NaN\n",
       "733      NaN\n",
       "Name: skin_color, Length: 734, dtype: object"
      ]
     },
     "execution_count": 45,
     "metadata": {},
     "output_type": "execute_result"
    }
   ],
   "source": [
    "df.skin_color.replace('-',np.nan)"
   ]
  },
  {
   "cell_type": "code",
   "execution_count": 46,
   "id": "c7960454-9fda-4412-a0eb-bc712ecce9db",
   "metadata": {},
   "outputs": [
    {
     "data": {
      "text/plain": [
       "skin_color\n",
       "-                 662\n",
       "green              21\n",
       "red                 9\n",
       "blue                9\n",
       "white               7\n",
       "grey                5\n",
       "silver              5\n",
       "purple              3\n",
       "gold                3\n",
       "yellow              2\n",
       "pink                2\n",
       "red / black         1\n",
       "black               1\n",
       "orange / white      1\n",
       "gray                1\n",
       "blue-white          1\n",
       "orange              1\n",
       "Name: count, dtype: int64"
      ]
     },
     "execution_count": 46,
     "metadata": {},
     "output_type": "execute_result"
    }
   ],
   "source": [
    "df.skin_color.value_counts()"
   ]
  },
  {
   "cell_type": "code",
   "execution_count": 49,
   "id": "8783391a-84f4-48c3-ba4b-18d74b55d379",
   "metadata": {},
   "outputs": [
    {
     "data": {
      "text/plain": [
       "0      no color\n",
       "1          blue\n",
       "2           red\n",
       "3      no color\n",
       "4      no color\n",
       "         ...   \n",
       "729    no color\n",
       "730       white\n",
       "731       green\n",
       "732    no color\n",
       "733    no color\n",
       "Name: skin_color, Length: 734, dtype: object"
      ]
     },
     "execution_count": 49,
     "metadata": {},
     "output_type": "execute_result"
    }
   ],
   "source": [
    "df.skin_color.replace('-','no color')"
   ]
  },
  {
   "cell_type": "code",
   "execution_count": 17,
   "id": "cb195039-cd18-4c39-b95f-bdc7bc8d5b03",
   "metadata": {},
   "outputs": [],
   "source": [
    "df_orig = df"
   ]
  },
  {
   "cell_type": "markdown",
   "id": "5ad53ad6-bc3a-499c-9e15-965a4ae18071",
   "metadata": {},
   "source": [
    "# Missings (Trabajando con valores faltantes)"
   ]
  },
  {
   "cell_type": "markdown",
   "id": "6ffea1e7-8093-4c60-9edf-ee47c777fde4",
   "metadata": {},
   "source": [
    "Veamos que variables contienen nulos"
   ]
  },
  {
   "cell_type": "code",
   "execution_count": 4,
   "id": "72a036d6-70bf-4ae4-95e4-e6fff4f32da5",
   "metadata": {},
   "outputs": [
    {
     "data": {
      "text/html": [
       "<div>\n",
       "<style scoped>\n",
       "    .dataframe tbody tr th:only-of-type {\n",
       "        vertical-align: middle;\n",
       "    }\n",
       "\n",
       "    .dataframe tbody tr th {\n",
       "        vertical-align: top;\n",
       "    }\n",
       "\n",
       "    .dataframe thead th {\n",
       "        text-align: right;\n",
       "    }\n",
       "</style>\n",
       "<table border=\"1\" class=\"dataframe\">\n",
       "  <thead>\n",
       "    <tr style=\"text-align: right;\">\n",
       "      <th></th>\n",
       "      <th>Cantidad nulls</th>\n",
       "    </tr>\n",
       "  </thead>\n",
       "  <tbody>\n",
       "    <tr>\n",
       "      <th>name</th>\n",
       "      <td>0</td>\n",
       "    </tr>\n",
       "    <tr>\n",
       "      <th>gender</th>\n",
       "      <td>0</td>\n",
       "    </tr>\n",
       "    <tr>\n",
       "      <th>eye_color</th>\n",
       "      <td>0</td>\n",
       "    </tr>\n",
       "    <tr>\n",
       "      <th>race</th>\n",
       "      <td>0</td>\n",
       "    </tr>\n",
       "    <tr>\n",
       "      <th>hair_color</th>\n",
       "      <td>0</td>\n",
       "    </tr>\n",
       "    <tr>\n",
       "      <th>height</th>\n",
       "      <td>0</td>\n",
       "    </tr>\n",
       "    <tr>\n",
       "      <th>publisher</th>\n",
       "      <td>15</td>\n",
       "    </tr>\n",
       "    <tr>\n",
       "      <th>skin_color</th>\n",
       "      <td>0</td>\n",
       "    </tr>\n",
       "    <tr>\n",
       "      <th>alignment</th>\n",
       "      <td>0</td>\n",
       "    </tr>\n",
       "    <tr>\n",
       "      <th>weight</th>\n",
       "      <td>2</td>\n",
       "    </tr>\n",
       "  </tbody>\n",
       "</table>\n",
       "</div>"
      ],
      "text/plain": [
       "            Cantidad nulls\n",
       "name                     0\n",
       "gender                   0\n",
       "eye_color                0\n",
       "race                     0\n",
       "hair_color               0\n",
       "height                   0\n",
       "publisher               15\n",
       "skin_color               0\n",
       "alignment                0\n",
       "weight                   2"
      ]
     },
     "execution_count": 4,
     "metadata": {},
     "output_type": "execute_result"
    }
   ],
   "source": [
    "df.isnull().sum().to_frame('Cantidad nulls')"
   ]
  },
  {
   "cell_type": "code",
   "execution_count": 6,
   "id": "aa80606a-5a77-4212-afdd-786f5f8cccb5",
   "metadata": {},
   "outputs": [
    {
     "data": {
      "text/plain": [
       "array(['Marvel Comics', 'Dark Horse Comics', 'DC Comics', 'NBC - Heroes',\n",
       "       'Wildstorm', 'Image Comics', 'nan', 'Icon Comics', 'SyFy',\n",
       "       'Hanna-Barbera', 'George Lucas', 'Team Epic TV', 'South Park',\n",
       "       'HarperCollins', 'ABC Studios', 'Universal Studios', 'Star Trek',\n",
       "       'IDW Publishing', 'Shueisha', 'Sony Pictures', 'J. K. Rowling',\n",
       "       'Titan Books', 'Rebellion', 'Microsoft', 'J. R. R. Tolkien'],\n",
       "      dtype=object)"
      ]
     },
     "execution_count": 6,
     "metadata": {},
     "output_type": "execute_result"
    }
   ],
   "source": [
    "# Aca vemos como pasar el nan al texto \"nan\" y por lo tanto es un \"nuevo\" color\n",
    "df['publisher'].astype(str).unique()"
   ]
  },
  {
   "cell_type": "code",
   "execution_count": 50,
   "id": "d0ff38c7-284f-48ac-9b16-6694df74ed45",
   "metadata": {},
   "outputs": [
    {
     "data": {
      "text/plain": [
       "publisher\n",
       "Marvel Comics        388\n",
       "DC Comics            215\n",
       "NBC - Heroes          19\n",
       "Dark Horse Comics     18\n",
       "George Lucas          14\n",
       "Image Comics          14\n",
       "Star Trek              6\n",
       "HarperCollins          6\n",
       "SyFy                   5\n",
       "Team Epic TV           5\n",
       "Icon Comics            4\n",
       "ABC Studios            4\n",
       "IDW Publishing         4\n",
       "Shueisha               4\n",
       "Wildstorm              3\n",
       "Sony Pictures          2\n",
       "Hanna-Barbera          1\n",
       "South Park             1\n",
       "Universal Studios      1\n",
       "J. K. Rowling          1\n",
       "Titan Books            1\n",
       "Rebellion              1\n",
       "Microsoft              1\n",
       "J. R. R. Tolkien       1\n",
       "Name: count, dtype: int64"
      ]
     },
     "execution_count": 50,
     "metadata": {},
     "output_type": "execute_result"
    }
   ],
   "source": [
    "df['publisher'].value_counts()"
   ]
  },
  {
   "cell_type": "markdown",
   "id": "4b202c38-c0d5-4106-ad09-22ccd467b6b7",
   "metadata": {},
   "source": [
    "### Opcion 0: Tratarla como una \"categoria\" o valor más\n",
    "Vimos un ejemplo con el One Hot Encoder"
   ]
  },
  {
   "cell_type": "code",
   "execution_count": 8,
   "id": "761c712e-a513-4c38-af81-1f7c38fa1b66",
   "metadata": {},
   "outputs": [
    {
     "data": {
      "text/html": [
       "<div>\n",
       "<style scoped>\n",
       "    .dataframe tbody tr th:only-of-type {\n",
       "        vertical-align: middle;\n",
       "    }\n",
       "\n",
       "    .dataframe tbody tr th {\n",
       "        vertical-align: top;\n",
       "    }\n",
       "\n",
       "    .dataframe thead th {\n",
       "        text-align: right;\n",
       "    }\n",
       "</style>\n",
       "<table border=\"1\" class=\"dataframe\">\n",
       "  <thead>\n",
       "    <tr style=\"text-align: right;\">\n",
       "      <th></th>\n",
       "      <th>cantidad</th>\n",
       "    </tr>\n",
       "    <tr>\n",
       "      <th>publisher</th>\n",
       "      <th></th>\n",
       "    </tr>\n",
       "  </thead>\n",
       "  <tbody>\n",
       "    <tr>\n",
       "      <th>Marvel Comics</th>\n",
       "      <td>388</td>\n",
       "    </tr>\n",
       "    <tr>\n",
       "      <th>DC Comics</th>\n",
       "      <td>215</td>\n",
       "    </tr>\n",
       "    <tr>\n",
       "      <th>NBC - Heroes</th>\n",
       "      <td>19</td>\n",
       "    </tr>\n",
       "    <tr>\n",
       "      <th>Dark Horse Comics</th>\n",
       "      <td>18</td>\n",
       "    </tr>\n",
       "    <tr>\n",
       "      <th>nan</th>\n",
       "      <td>15</td>\n",
       "    </tr>\n",
       "    <tr>\n",
       "      <th>George Lucas</th>\n",
       "      <td>14</td>\n",
       "    </tr>\n",
       "    <tr>\n",
       "      <th>Image Comics</th>\n",
       "      <td>14</td>\n",
       "    </tr>\n",
       "    <tr>\n",
       "      <th>HarperCollins</th>\n",
       "      <td>6</td>\n",
       "    </tr>\n",
       "    <tr>\n",
       "      <th>Star Trek</th>\n",
       "      <td>6</td>\n",
       "    </tr>\n",
       "    <tr>\n",
       "      <th>SyFy</th>\n",
       "      <td>5</td>\n",
       "    </tr>\n",
       "    <tr>\n",
       "      <th>Team Epic TV</th>\n",
       "      <td>5</td>\n",
       "    </tr>\n",
       "    <tr>\n",
       "      <th>Icon Comics</th>\n",
       "      <td>4</td>\n",
       "    </tr>\n",
       "    <tr>\n",
       "      <th>ABC Studios</th>\n",
       "      <td>4</td>\n",
       "    </tr>\n",
       "    <tr>\n",
       "      <th>IDW Publishing</th>\n",
       "      <td>4</td>\n",
       "    </tr>\n",
       "    <tr>\n",
       "      <th>Shueisha</th>\n",
       "      <td>4</td>\n",
       "    </tr>\n",
       "    <tr>\n",
       "      <th>Wildstorm</th>\n",
       "      <td>3</td>\n",
       "    </tr>\n",
       "    <tr>\n",
       "      <th>Sony Pictures</th>\n",
       "      <td>2</td>\n",
       "    </tr>\n",
       "    <tr>\n",
       "      <th>Microsoft</th>\n",
       "      <td>1</td>\n",
       "    </tr>\n",
       "    <tr>\n",
       "      <th>Titan Books</th>\n",
       "      <td>1</td>\n",
       "    </tr>\n",
       "    <tr>\n",
       "      <th>Rebellion</th>\n",
       "      <td>1</td>\n",
       "    </tr>\n",
       "    <tr>\n",
       "      <th>South Park</th>\n",
       "      <td>1</td>\n",
       "    </tr>\n",
       "    <tr>\n",
       "      <th>J. K. Rowling</th>\n",
       "      <td>1</td>\n",
       "    </tr>\n",
       "    <tr>\n",
       "      <th>Universal Studios</th>\n",
       "      <td>1</td>\n",
       "    </tr>\n",
       "    <tr>\n",
       "      <th>Hanna-Barbera</th>\n",
       "      <td>1</td>\n",
       "    </tr>\n",
       "    <tr>\n",
       "      <th>J. R. R. Tolkien</th>\n",
       "      <td>1</td>\n",
       "    </tr>\n",
       "  </tbody>\n",
       "</table>\n",
       "</div>"
      ],
      "text/plain": [
       "                   cantidad\n",
       "publisher                  \n",
       "Marvel Comics           388\n",
       "DC Comics               215\n",
       "NBC - Heroes             19\n",
       "Dark Horse Comics        18\n",
       "nan                      15\n",
       "George Lucas             14\n",
       "Image Comics             14\n",
       "HarperCollins             6\n",
       "Star Trek                 6\n",
       "SyFy                      5\n",
       "Team Epic TV              5\n",
       "Icon Comics               4\n",
       "ABC Studios               4\n",
       "IDW Publishing            4\n",
       "Shueisha                  4\n",
       "Wildstorm                 3\n",
       "Sony Pictures             2\n",
       "Microsoft                 1\n",
       "Titan Books               1\n",
       "Rebellion                 1\n",
       "South Park                1\n",
       "J. K. Rowling             1\n",
       "Universal Studios         1\n",
       "Hanna-Barbera             1\n",
       "J. R. R. Tolkien          1"
      ]
     },
     "execution_count": 8,
     "metadata": {},
     "output_type": "execute_result"
    }
   ],
   "source": [
    "df.publisher.astype(str).value_counts().to_frame('cantidad')"
   ]
  },
  {
   "cell_type": "code",
   "execution_count": 11,
   "id": "ee9dc434-daf5-4459-b89a-6e5f97ed7722",
   "metadata": {},
   "outputs": [],
   "source": [
    "df['publisher'].fillna('sin datos',inplace=True)\n",
    "df['publisher'] = df['publisher'].fillna('sin datos')"
   ]
  },
  {
   "cell_type": "code",
   "execution_count": 12,
   "id": "43d513da-f254-423e-8d99-715b4b53eed7",
   "metadata": {},
   "outputs": [
    {
     "data": {
      "text/html": [
       "<div>\n",
       "<style scoped>\n",
       "    .dataframe tbody tr th:only-of-type {\n",
       "        vertical-align: middle;\n",
       "    }\n",
       "\n",
       "    .dataframe tbody tr th {\n",
       "        vertical-align: top;\n",
       "    }\n",
       "\n",
       "    .dataframe thead th {\n",
       "        text-align: right;\n",
       "    }\n",
       "</style>\n",
       "<table border=\"1\" class=\"dataframe\">\n",
       "  <thead>\n",
       "    <tr style=\"text-align: right;\">\n",
       "      <th></th>\n",
       "      <th>Cantidad nulls</th>\n",
       "    </tr>\n",
       "  </thead>\n",
       "  <tbody>\n",
       "    <tr>\n",
       "      <th>name</th>\n",
       "      <td>0</td>\n",
       "    </tr>\n",
       "    <tr>\n",
       "      <th>gender</th>\n",
       "      <td>0</td>\n",
       "    </tr>\n",
       "    <tr>\n",
       "      <th>eye_color</th>\n",
       "      <td>0</td>\n",
       "    </tr>\n",
       "    <tr>\n",
       "      <th>race</th>\n",
       "      <td>0</td>\n",
       "    </tr>\n",
       "    <tr>\n",
       "      <th>hair_color</th>\n",
       "      <td>0</td>\n",
       "    </tr>\n",
       "    <tr>\n",
       "      <th>height</th>\n",
       "      <td>0</td>\n",
       "    </tr>\n",
       "    <tr>\n",
       "      <th>publisher</th>\n",
       "      <td>0</td>\n",
       "    </tr>\n",
       "    <tr>\n",
       "      <th>skin_color</th>\n",
       "      <td>0</td>\n",
       "    </tr>\n",
       "    <tr>\n",
       "      <th>alignment</th>\n",
       "      <td>0</td>\n",
       "    </tr>\n",
       "    <tr>\n",
       "      <th>weight</th>\n",
       "      <td>2</td>\n",
       "    </tr>\n",
       "  </tbody>\n",
       "</table>\n",
       "</div>"
      ],
      "text/plain": [
       "            Cantidad nulls\n",
       "name                     0\n",
       "gender                   0\n",
       "eye_color                0\n",
       "race                     0\n",
       "hair_color               0\n",
       "height                   0\n",
       "publisher                0\n",
       "skin_color               0\n",
       "alignment                0\n",
       "weight                   2"
      ]
     },
     "execution_count": 12,
     "metadata": {},
     "output_type": "execute_result"
    }
   ],
   "source": [
    "df.isnull().sum().to_frame('Cantidad nulls')"
   ]
  },
  {
   "cell_type": "markdown",
   "id": "842e8a32-6d61-4bc6-a143-067462702586",
   "metadata": {},
   "source": [
    "### Opcion 1: remover los nulos del dataset"
   ]
  },
  {
   "cell_type": "code",
   "execution_count": 51,
   "id": "6d0832be-2efc-4145-b799-6ff84a86e239",
   "metadata": {},
   "outputs": [
    {
     "data": {
      "text/html": [
       "<div>\n",
       "<style scoped>\n",
       "    .dataframe tbody tr th:only-of-type {\n",
       "        vertical-align: middle;\n",
       "    }\n",
       "\n",
       "    .dataframe tbody tr th {\n",
       "        vertical-align: top;\n",
       "    }\n",
       "\n",
       "    .dataframe thead th {\n",
       "        text-align: right;\n",
       "    }\n",
       "</style>\n",
       "<table border=\"1\" class=\"dataframe\">\n",
       "  <thead>\n",
       "    <tr style=\"text-align: right;\">\n",
       "      <th></th>\n",
       "      <th>porcentaje nulls</th>\n",
       "    </tr>\n",
       "  </thead>\n",
       "  <tbody>\n",
       "    <tr>\n",
       "      <th>name</th>\n",
       "      <td>0.000000</td>\n",
       "    </tr>\n",
       "    <tr>\n",
       "      <th>gender</th>\n",
       "      <td>0.000000</td>\n",
       "    </tr>\n",
       "    <tr>\n",
       "      <th>eye_color</th>\n",
       "      <td>0.000000</td>\n",
       "    </tr>\n",
       "    <tr>\n",
       "      <th>race</th>\n",
       "      <td>0.000000</td>\n",
       "    </tr>\n",
       "    <tr>\n",
       "      <th>hair_color</th>\n",
       "      <td>0.000000</td>\n",
       "    </tr>\n",
       "    <tr>\n",
       "      <th>height</th>\n",
       "      <td>0.000000</td>\n",
       "    </tr>\n",
       "    <tr>\n",
       "      <th>publisher</th>\n",
       "      <td>2.043597</td>\n",
       "    </tr>\n",
       "    <tr>\n",
       "      <th>skin_color</th>\n",
       "      <td>0.000000</td>\n",
       "    </tr>\n",
       "    <tr>\n",
       "      <th>alignment</th>\n",
       "      <td>0.000000</td>\n",
       "    </tr>\n",
       "    <tr>\n",
       "      <th>weight</th>\n",
       "      <td>0.272480</td>\n",
       "    </tr>\n",
       "  </tbody>\n",
       "</table>\n",
       "</div>"
      ],
      "text/plain": [
       "            porcentaje nulls\n",
       "name                0.000000\n",
       "gender              0.000000\n",
       "eye_color           0.000000\n",
       "race                0.000000\n",
       "hair_color          0.000000\n",
       "height              0.000000\n",
       "publisher           2.043597\n",
       "skin_color          0.000000\n",
       "alignment           0.000000\n",
       "weight              0.272480"
      ]
     },
     "execution_count": 51,
     "metadata": {},
     "output_type": "execute_result"
    }
   ],
   "source": [
    "(df.isnull().mean() * 100).to_frame('porcentaje nulls')"
   ]
  },
  {
   "cell_type": "markdown",
   "id": "2be4eaf3-743e-4910-aa4d-ec9dc0f6b2fa",
   "metadata": {},
   "source": [
    "Veamos algunos registros de dichas variables accediendo con [.loc](https://pandas.pydata.org/pandas-docs/stable/reference/api/pandas.DataFrame.loc.html)"
   ]
  },
  {
   "cell_type": "code",
   "execution_count": 30,
   "id": "0037323f-d107-4e39-832a-65c39cb6b88e",
   "metadata": {},
   "outputs": [
    {
     "data": {
      "text/plain": [
       "(15, 2)"
      ]
     },
     "execution_count": 30,
     "metadata": {},
     "output_type": "execute_result"
    }
   ],
   "source": [
    "df_orig[df_orig.isnull().any(axis=1)][['publisher','weight']]"
   ]
  },
  {
   "cell_type": "markdown",
   "id": "2e2bd182-4889-4484-b1a4-e526513f0830",
   "metadata": {},
   "source": [
    "Tenemos dos tipos de variables a tratar, numéricas y categóricas. <br>\n",
    "Veamos algunas soluciones generales"
   ]
  },
  {
   "cell_type": "code",
   "execution_count": 29,
   "id": "c652c5ea-651f-4f04-b85c-3c595ee989ae",
   "metadata": {},
   "outputs": [
    {
     "data": {
      "text/plain": [
       "719"
      ]
     },
     "execution_count": 29,
     "metadata": {},
     "output_type": "execute_result"
    }
   ],
   "source": [
    "# eliminar filas con nulos\n",
    "\n",
    "less_rows = df.dropna(axis=0)\n",
    "len(less_rows)"
   ]
  },
  {
   "cell_type": "code",
   "execution_count": 32,
   "id": "a59de49b-9449-4a0d-a163-1f3fd9907613",
   "metadata": {},
   "outputs": [
    {
     "data": {
      "text/plain": [
       "(734, 10)"
      ]
     },
     "execution_count": 32,
     "metadata": {},
     "output_type": "execute_result"
    }
   ],
   "source": [
    "df.shape"
   ]
  },
  {
   "cell_type": "markdown",
   "id": "7d533ec7-cde4-4418-8bc8-9e56c4a22c4a",
   "metadata": {},
   "source": [
    "Eliminamos 15 instancias"
   ]
  },
  {
   "cell_type": "code",
   "execution_count": 33,
   "id": "d43638aa-b9a3-4f38-ab4f-10b9c10dc64a",
   "metadata": {},
   "outputs": [
    {
     "data": {
      "text/html": [
       "<div>\n",
       "<style scoped>\n",
       "    .dataframe tbody tr th:only-of-type {\n",
       "        vertical-align: middle;\n",
       "    }\n",
       "\n",
       "    .dataframe tbody tr th {\n",
       "        vertical-align: top;\n",
       "    }\n",
       "\n",
       "    .dataframe thead th {\n",
       "        text-align: right;\n",
       "    }\n",
       "</style>\n",
       "<table border=\"1\" class=\"dataframe\">\n",
       "  <thead>\n",
       "    <tr style=\"text-align: right;\">\n",
       "      <th></th>\n",
       "      <th>name</th>\n",
       "      <th>gender</th>\n",
       "      <th>eye_color</th>\n",
       "      <th>race</th>\n",
       "      <th>hair_color</th>\n",
       "      <th>height</th>\n",
       "      <th>publisher</th>\n",
       "      <th>skin_color</th>\n",
       "      <th>alignment</th>\n",
       "      <th>weight</th>\n",
       "    </tr>\n",
       "  </thead>\n",
       "  <tbody>\n",
       "    <tr>\n",
       "      <th>0</th>\n",
       "      <td>A-Bomb</td>\n",
       "      <td>Male</td>\n",
       "      <td>yellow</td>\n",
       "      <td>Human</td>\n",
       "      <td>No Hair</td>\n",
       "      <td>203.0</td>\n",
       "      <td>Marvel Comics</td>\n",
       "      <td>-</td>\n",
       "      <td>good</td>\n",
       "      <td>441.0</td>\n",
       "    </tr>\n",
       "    <tr>\n",
       "      <th>1</th>\n",
       "      <td>Abe Sapien</td>\n",
       "      <td>Male</td>\n",
       "      <td>blue</td>\n",
       "      <td>Icthyo Sapien</td>\n",
       "      <td>No Hair</td>\n",
       "      <td>191.0</td>\n",
       "      <td>Dark Horse Comics</td>\n",
       "      <td>blue</td>\n",
       "      <td>good</td>\n",
       "      <td>65.0</td>\n",
       "    </tr>\n",
       "    <tr>\n",
       "      <th>2</th>\n",
       "      <td>Abin Sur</td>\n",
       "      <td>Male</td>\n",
       "      <td>blue</td>\n",
       "      <td>Ungaran</td>\n",
       "      <td>No Hair</td>\n",
       "      <td>185.0</td>\n",
       "      <td>DC Comics</td>\n",
       "      <td>red</td>\n",
       "      <td>good</td>\n",
       "      <td>90.0</td>\n",
       "    </tr>\n",
       "    <tr>\n",
       "      <th>3</th>\n",
       "      <td>Abomination</td>\n",
       "      <td>Male</td>\n",
       "      <td>green</td>\n",
       "      <td>Human / Radiation</td>\n",
       "      <td>No Hair</td>\n",
       "      <td>203.0</td>\n",
       "      <td>Marvel Comics</td>\n",
       "      <td>-</td>\n",
       "      <td>bad</td>\n",
       "      <td>441.0</td>\n",
       "    </tr>\n",
       "    <tr>\n",
       "      <th>4</th>\n",
       "      <td>Abraxas</td>\n",
       "      <td>Male</td>\n",
       "      <td>blue</td>\n",
       "      <td>Cosmic Entity</td>\n",
       "      <td>Black</td>\n",
       "      <td>-99.0</td>\n",
       "      <td>Marvel Comics</td>\n",
       "      <td>-</td>\n",
       "      <td>bad</td>\n",
       "      <td>-99.0</td>\n",
       "    </tr>\n",
       "    <tr>\n",
       "      <th>...</th>\n",
       "      <td>...</td>\n",
       "      <td>...</td>\n",
       "      <td>...</td>\n",
       "      <td>...</td>\n",
       "      <td>...</td>\n",
       "      <td>...</td>\n",
       "      <td>...</td>\n",
       "      <td>...</td>\n",
       "      <td>...</td>\n",
       "      <td>...</td>\n",
       "    </tr>\n",
       "    <tr>\n",
       "      <th>729</th>\n",
       "      <td>Yellowjacket II</td>\n",
       "      <td>Female</td>\n",
       "      <td>blue</td>\n",
       "      <td>Human</td>\n",
       "      <td>Strawberry Blond</td>\n",
       "      <td>165.0</td>\n",
       "      <td>Marvel Comics</td>\n",
       "      <td>-</td>\n",
       "      <td>good</td>\n",
       "      <td>52.0</td>\n",
       "    </tr>\n",
       "    <tr>\n",
       "      <th>730</th>\n",
       "      <td>Ymir</td>\n",
       "      <td>Male</td>\n",
       "      <td>white</td>\n",
       "      <td>Frost Giant</td>\n",
       "      <td>No Hair</td>\n",
       "      <td>304.8</td>\n",
       "      <td>Marvel Comics</td>\n",
       "      <td>white</td>\n",
       "      <td>good</td>\n",
       "      <td>-99.0</td>\n",
       "    </tr>\n",
       "    <tr>\n",
       "      <th>731</th>\n",
       "      <td>Yoda</td>\n",
       "      <td>Male</td>\n",
       "      <td>brown</td>\n",
       "      <td>Yoda's species</td>\n",
       "      <td>White</td>\n",
       "      <td>66.0</td>\n",
       "      <td>George Lucas</td>\n",
       "      <td>green</td>\n",
       "      <td>good</td>\n",
       "      <td>17.0</td>\n",
       "    </tr>\n",
       "    <tr>\n",
       "      <th>732</th>\n",
       "      <td>Zatanna</td>\n",
       "      <td>Female</td>\n",
       "      <td>blue</td>\n",
       "      <td>Human</td>\n",
       "      <td>Black</td>\n",
       "      <td>170.0</td>\n",
       "      <td>DC Comics</td>\n",
       "      <td>-</td>\n",
       "      <td>good</td>\n",
       "      <td>57.0</td>\n",
       "    </tr>\n",
       "    <tr>\n",
       "      <th>733</th>\n",
       "      <td>Zoom</td>\n",
       "      <td>Male</td>\n",
       "      <td>red</td>\n",
       "      <td>-</td>\n",
       "      <td>Brown</td>\n",
       "      <td>185.0</td>\n",
       "      <td>DC Comics</td>\n",
       "      <td>-</td>\n",
       "      <td>bad</td>\n",
       "      <td>81.0</td>\n",
       "    </tr>\n",
       "  </tbody>\n",
       "</table>\n",
       "<p>734 rows × 10 columns</p>\n",
       "</div>"
      ],
      "text/plain": [
       "                name  gender eye_color               race        hair_color  \\\n",
       "0             A-Bomb    Male    yellow              Human           No Hair   \n",
       "1         Abe Sapien    Male      blue      Icthyo Sapien           No Hair   \n",
       "2           Abin Sur    Male      blue            Ungaran           No Hair   \n",
       "3        Abomination    Male     green  Human / Radiation           No Hair   \n",
       "4            Abraxas    Male      blue      Cosmic Entity             Black   \n",
       "..               ...     ...       ...                ...               ...   \n",
       "729  Yellowjacket II  Female      blue              Human  Strawberry Blond   \n",
       "730             Ymir    Male     white        Frost Giant           No Hair   \n",
       "731             Yoda    Male     brown     Yoda's species             White   \n",
       "732          Zatanna  Female      blue              Human             Black   \n",
       "733             Zoom    Male       red                  -             Brown   \n",
       "\n",
       "     height          publisher skin_color alignment  weight  \n",
       "0     203.0      Marvel Comics          -      good   441.0  \n",
       "1     191.0  Dark Horse Comics       blue      good    65.0  \n",
       "2     185.0          DC Comics        red      good    90.0  \n",
       "3     203.0      Marvel Comics          -       bad   441.0  \n",
       "4     -99.0      Marvel Comics          -       bad   -99.0  \n",
       "..      ...                ...        ...       ...     ...  \n",
       "729   165.0      Marvel Comics          -      good    52.0  \n",
       "730   304.8      Marvel Comics      white      good   -99.0  \n",
       "731    66.0       George Lucas      green      good    17.0  \n",
       "732   170.0          DC Comics          -      good    57.0  \n",
       "733   185.0          DC Comics          -       bad    81.0  \n",
       "\n",
       "[734 rows x 10 columns]"
      ]
     },
     "execution_count": 33,
     "metadata": {},
     "output_type": "execute_result"
    }
   ],
   "source": [
    "# eliminar filas con alto porcentaje de nulos\n",
    "\n",
    "NULL_REMOVE_PERCENT = 0.30\n",
    "df[df.isnull().mean(axis=1) < NULL_REMOVE_PERCENT]"
   ]
  },
  {
   "cell_type": "code",
   "execution_count": 34,
   "id": "f538eade-dda4-4f34-aeac-9a219653d888",
   "metadata": {},
   "outputs": [
    {
     "data": {
      "text/plain": [
       "(734, 8)"
      ]
     },
     "execution_count": 34,
     "metadata": {},
     "output_type": "execute_result"
    }
   ],
   "source": [
    "# eliminar columnas con nulos\n",
    "\n",
    "less_cols = df.dropna(axis=1)\n",
    "less_cols.shape"
   ]
  },
  {
   "cell_type": "code",
   "execution_count": 39,
   "id": "3bd3da2c-2779-4f62-a0e8-0a9050aad764",
   "metadata": {
    "lines_to_next_cell": 0
   },
   "outputs": [
    {
     "data": {
      "text/html": [
       "<div>\n",
       "<style scoped>\n",
       "    .dataframe tbody tr th:only-of-type {\n",
       "        vertical-align: middle;\n",
       "    }\n",
       "\n",
       "    .dataframe tbody tr th {\n",
       "        vertical-align: top;\n",
       "    }\n",
       "\n",
       "    .dataframe thead th {\n",
       "        text-align: right;\n",
       "    }\n",
       "</style>\n",
       "<table border=\"1\" class=\"dataframe\">\n",
       "  <thead>\n",
       "    <tr style=\"text-align: right;\">\n",
       "      <th></th>\n",
       "      <th>name</th>\n",
       "      <th>gender</th>\n",
       "      <th>eye_color</th>\n",
       "      <th>race</th>\n",
       "      <th>hair_color</th>\n",
       "      <th>height</th>\n",
       "      <th>skin_color</th>\n",
       "      <th>alignment</th>\n",
       "      <th>weight</th>\n",
       "    </tr>\n",
       "  </thead>\n",
       "  <tbody>\n",
       "    <tr>\n",
       "      <th>0</th>\n",
       "      <td>A-Bomb</td>\n",
       "      <td>Male</td>\n",
       "      <td>yellow</td>\n",
       "      <td>Human</td>\n",
       "      <td>No Hair</td>\n",
       "      <td>203.0</td>\n",
       "      <td>-</td>\n",
       "      <td>good</td>\n",
       "      <td>441.0</td>\n",
       "    </tr>\n",
       "    <tr>\n",
       "      <th>1</th>\n",
       "      <td>Abe Sapien</td>\n",
       "      <td>Male</td>\n",
       "      <td>blue</td>\n",
       "      <td>Icthyo Sapien</td>\n",
       "      <td>No Hair</td>\n",
       "      <td>191.0</td>\n",
       "      <td>blue</td>\n",
       "      <td>good</td>\n",
       "      <td>65.0</td>\n",
       "    </tr>\n",
       "    <tr>\n",
       "      <th>2</th>\n",
       "      <td>Abin Sur</td>\n",
       "      <td>Male</td>\n",
       "      <td>blue</td>\n",
       "      <td>Ungaran</td>\n",
       "      <td>No Hair</td>\n",
       "      <td>185.0</td>\n",
       "      <td>red</td>\n",
       "      <td>good</td>\n",
       "      <td>90.0</td>\n",
       "    </tr>\n",
       "    <tr>\n",
       "      <th>3</th>\n",
       "      <td>Abomination</td>\n",
       "      <td>Male</td>\n",
       "      <td>green</td>\n",
       "      <td>Human / Radiation</td>\n",
       "      <td>No Hair</td>\n",
       "      <td>203.0</td>\n",
       "      <td>-</td>\n",
       "      <td>bad</td>\n",
       "      <td>441.0</td>\n",
       "    </tr>\n",
       "    <tr>\n",
       "      <th>4</th>\n",
       "      <td>Abraxas</td>\n",
       "      <td>Male</td>\n",
       "      <td>blue</td>\n",
       "      <td>Cosmic Entity</td>\n",
       "      <td>Black</td>\n",
       "      <td>-99.0</td>\n",
       "      <td>-</td>\n",
       "      <td>bad</td>\n",
       "      <td>-99.0</td>\n",
       "    </tr>\n",
       "    <tr>\n",
       "      <th>...</th>\n",
       "      <td>...</td>\n",
       "      <td>...</td>\n",
       "      <td>...</td>\n",
       "      <td>...</td>\n",
       "      <td>...</td>\n",
       "      <td>...</td>\n",
       "      <td>...</td>\n",
       "      <td>...</td>\n",
       "      <td>...</td>\n",
       "    </tr>\n",
       "    <tr>\n",
       "      <th>729</th>\n",
       "      <td>Yellowjacket II</td>\n",
       "      <td>Female</td>\n",
       "      <td>blue</td>\n",
       "      <td>Human</td>\n",
       "      <td>Strawberry Blond</td>\n",
       "      <td>165.0</td>\n",
       "      <td>-</td>\n",
       "      <td>good</td>\n",
       "      <td>52.0</td>\n",
       "    </tr>\n",
       "    <tr>\n",
       "      <th>730</th>\n",
       "      <td>Ymir</td>\n",
       "      <td>Male</td>\n",
       "      <td>white</td>\n",
       "      <td>Frost Giant</td>\n",
       "      <td>No Hair</td>\n",
       "      <td>304.8</td>\n",
       "      <td>white</td>\n",
       "      <td>good</td>\n",
       "      <td>-99.0</td>\n",
       "    </tr>\n",
       "    <tr>\n",
       "      <th>731</th>\n",
       "      <td>Yoda</td>\n",
       "      <td>Male</td>\n",
       "      <td>brown</td>\n",
       "      <td>Yoda's species</td>\n",
       "      <td>White</td>\n",
       "      <td>66.0</td>\n",
       "      <td>green</td>\n",
       "      <td>good</td>\n",
       "      <td>17.0</td>\n",
       "    </tr>\n",
       "    <tr>\n",
       "      <th>732</th>\n",
       "      <td>Zatanna</td>\n",
       "      <td>Female</td>\n",
       "      <td>blue</td>\n",
       "      <td>Human</td>\n",
       "      <td>Black</td>\n",
       "      <td>170.0</td>\n",
       "      <td>-</td>\n",
       "      <td>good</td>\n",
       "      <td>57.0</td>\n",
       "    </tr>\n",
       "    <tr>\n",
       "      <th>733</th>\n",
       "      <td>Zoom</td>\n",
       "      <td>Male</td>\n",
       "      <td>red</td>\n",
       "      <td>-</td>\n",
       "      <td>Brown</td>\n",
       "      <td>185.0</td>\n",
       "      <td>-</td>\n",
       "      <td>bad</td>\n",
       "      <td>81.0</td>\n",
       "    </tr>\n",
       "  </tbody>\n",
       "</table>\n",
       "<p>734 rows × 9 columns</p>\n",
       "</div>"
      ],
      "text/plain": [
       "                name  gender eye_color               race        hair_color  \\\n",
       "0             A-Bomb    Male    yellow              Human           No Hair   \n",
       "1         Abe Sapien    Male      blue      Icthyo Sapien           No Hair   \n",
       "2           Abin Sur    Male      blue            Ungaran           No Hair   \n",
       "3        Abomination    Male     green  Human / Radiation           No Hair   \n",
       "4            Abraxas    Male      blue      Cosmic Entity             Black   \n",
       "..               ...     ...       ...                ...               ...   \n",
       "729  Yellowjacket II  Female      blue              Human  Strawberry Blond   \n",
       "730             Ymir    Male     white        Frost Giant           No Hair   \n",
       "731             Yoda    Male     brown     Yoda's species             White   \n",
       "732          Zatanna  Female      blue              Human             Black   \n",
       "733             Zoom    Male       red                  -             Brown   \n",
       "\n",
       "     height skin_color alignment  weight  \n",
       "0     203.0          -      good   441.0  \n",
       "1     191.0       blue      good    65.0  \n",
       "2     185.0        red      good    90.0  \n",
       "3     203.0          -       bad   441.0  \n",
       "4     -99.0          -       bad   -99.0  \n",
       "..      ...        ...       ...     ...  \n",
       "729   165.0          -      good    52.0  \n",
       "730   304.8      white      good   -99.0  \n",
       "731    66.0      green      good    17.0  \n",
       "732   170.0          -      good    57.0  \n",
       "733   185.0          -       bad    81.0  \n",
       "\n",
       "[734 rows x 9 columns]"
      ]
     },
     "execution_count": 39,
     "metadata": {},
     "output_type": "execute_result"
    }
   ],
   "source": [
    "# eliminar columnas con alto porcentaje de nulos\n",
    "\n",
    "NULL_REMOVE_PERCENT = 0.01\n",
    "cols = df.isna().mean()\n",
    "cols = cols[cols < NULL_REMOVE_PERCENT]\n",
    "df[cols.index]"
   ]
  },
  {
   "cell_type": "markdown",
   "id": "a87c3e1f-352e-4568-8917-af7d563f9a68",
   "metadata": {},
   "source": [
    "ELiminamos una columna"
   ]
  },
  {
   "cell_type": "code",
   "execution_count": null,
   "id": "b42909a4-ca1d-4794-baf8-eaeebbf1c068",
   "metadata": {
    "lines_to_next_cell": 2
   },
   "outputs": [],
   "source": []
  },
  {
   "cell_type": "markdown",
   "id": "d2f27033-2a40-471a-865a-2217deee8f5c",
   "metadata": {},
   "source": [
    "## Opcion 2: completar usando info de esa columna (Univariadas)"
   ]
  },
  {
   "cell_type": "markdown",
   "id": "5f5b5c25-b2eb-4fd2-a74a-59c603440b6f",
   "metadata": {},
   "source": [
    "#### Categóricas"
   ]
  },
  {
   "cell_type": "markdown",
   "id": "e2c1b227-9166-4664-9e16-a4f2b18617b3",
   "metadata": {},
   "source": [
    "Como vimos, los encoders solucionan el problema de nulos ya que imputan con la misma lógica que para los demás valores de la variable"
   ]
  },
  {
   "cell_type": "markdown",
   "id": "114d0e4e-6d04-4f88-8a81-50d1c0a1ffcc",
   "metadata": {},
   "source": [
    "#### Numéricas"
   ]
  },
  {
   "cell_type": "markdown",
   "id": "78e61a87-6104-4058-93ea-e2cd5f52016e",
   "metadata": {},
   "source": [
    "Completar con la mediana, promedio, moda o constante"
   ]
  },
  {
   "cell_type": "code",
   "execution_count": 40,
   "id": "e495d4f5-b842-43ac-a991-d04ecbecf394",
   "metadata": {},
   "outputs": [
    {
     "data": {
      "text/html": [
       "<div>\n",
       "<style scoped>\n",
       "    .dataframe tbody tr th:only-of-type {\n",
       "        vertical-align: middle;\n",
       "    }\n",
       "\n",
       "    .dataframe tbody tr th {\n",
       "        vertical-align: top;\n",
       "    }\n",
       "\n",
       "    .dataframe thead th {\n",
       "        text-align: right;\n",
       "    }\n",
       "</style>\n",
       "<table border=\"1\" class=\"dataframe\">\n",
       "  <thead>\n",
       "    <tr style=\"text-align: right;\">\n",
       "      <th></th>\n",
       "      <th>weight</th>\n",
       "      <th>median</th>\n",
       "      <th>mean</th>\n",
       "      <th>mode</th>\n",
       "      <th>contant</th>\n",
       "    </tr>\n",
       "  </thead>\n",
       "  <tbody>\n",
       "    <tr>\n",
       "      <th>286</th>\n",
       "      <td>NaN</td>\n",
       "      <td>62.0</td>\n",
       "      <td>43.855191</td>\n",
       "      <td>-99.0</td>\n",
       "      <td>-99</td>\n",
       "    </tr>\n",
       "    <tr>\n",
       "      <th>389</th>\n",
       "      <td>NaN</td>\n",
       "      <td>62.0</td>\n",
       "      <td>43.855191</td>\n",
       "      <td>-99.0</td>\n",
       "      <td>-99</td>\n",
       "    </tr>\n",
       "  </tbody>\n",
       "</table>\n",
       "</div>"
      ],
      "text/plain": [
       "     weight  median       mean  mode  contant\n",
       "286     NaN    62.0  43.855191 -99.0      -99\n",
       "389     NaN    62.0  43.855191 -99.0      -99"
      ]
     },
     "execution_count": 40,
     "metadata": {},
     "output_type": "execute_result"
    }
   ],
   "source": [
    "def show_strategies(df, name_col, k=-99):\n",
    "    '''Devuelve el valor de imputacion de las tres estrategias para esa columna'''\n",
    "\n",
    "    _df = df[[name_col]].copy()\n",
    "    s = df[name_col]\n",
    "\n",
    "    _df['median'] = s.fillna(s.median())\n",
    "    _df['mean'] = s.fillna(s.mean())\n",
    "    _df['mode'] = s.fillna(s.mode()[0])\n",
    "    _df['contant'] = k\n",
    "\n",
    "    # vemos los valores con los que completa en cada caso\n",
    "    return _df[s.isna()]\n",
    "\n",
    "\n",
    "show_strategies(df, 'weight')"
   ]
  },
  {
   "cell_type": "markdown",
   "id": "8b80426b-3491-4e56-8977-f033c676b728",
   "metadata": {
    "lines_to_next_cell": 2
   },
   "source": [
    "> Si implementamos el mismo ejemplo con sklearn, aparece el concepto de *imputer*"
   ]
  },
  {
   "cell_type": "markdown",
   "id": "6e38b8cd-f3c6-4b9a-a27b-697338e56c44",
   "metadata": {
    "lines_to_next_cell": 2
   },
   "source": [
    "https://scikit-learn.org/stable/modules/generated/sklearn.preprocessing.FunctionTransformer.html\n",
    "\n",
    "lo salteo"
   ]
  },
  {
   "cell_type": "code",
   "execution_count": 54,
   "id": "f064d110-b1b5-432c-bb54-8fcb92c5a59a",
   "metadata": {},
   "outputs": [],
   "source": [
    "def compare_imputers(df, name_col, k):\n",
    "    '''Devuelve el valor de imputacion de las estrategias para esa columna'''\n",
    "\n",
    "    median_imputer = SimpleImputer(strategy='median', fill_value=k)\n",
    "    mean_imputer = SimpleImputer(strategy='mean', fill_value=k)\n",
    "    mode_imputer = SimpleImputer(strategy='most_frequent', fill_value=k)\n",
    "    constant_imputer = SimpleImputer(strategy='constant', fill_value=-99)\n",
    "\n",
    "    _df = df.copy()\n",
    "    _df['median'] = median_imputer.fit_transform(df[[name_col]])\n",
    "    _df['mean'] = mean_imputer.fit_transform(df[[name_col]])\n",
    "    _df['mode'] = mode_imputer.fit_transform(df[[name_col]])\n",
    "    _df['constant'] = constant_imputer.fit_transform(df[[name_col]])\n",
    "\n",
    "    return _df[[name_col, 'median', 'mode', 'constant']]"
   ]
  },
  {
   "cell_type": "code",
   "execution_count": 53,
   "id": "b508f6c0-7c8a-4630-99da-b85157cf637e",
   "metadata": {},
   "outputs": [
    {
     "data": {
      "text/plain": [
       "0      203.0\n",
       "1      191.0\n",
       "2      185.0\n",
       "3      203.0\n",
       "4      -99.0\n",
       "       ...  \n",
       "729    165.0\n",
       "730    304.8\n",
       "731     66.0\n",
       "732    170.0\n",
       "733    185.0\n",
       "Name: height, Length: 734, dtype: float64"
      ]
     },
     "execution_count": 53,
     "metadata": {},
     "output_type": "execute_result"
    }
   ],
   "source": [
    "df.height.fillna(df.height.mean())"
   ]
  },
  {
   "cell_type": "code",
   "execution_count": 55,
   "id": "d6bb670f-3b9e-4d8a-a946-5fb567938338",
   "metadata": {
    "lines_to_next_cell": 0
   },
   "outputs": [
    {
     "data": {
      "text/html": [
       "<div>\n",
       "<style scoped>\n",
       "    .dataframe tbody tr th:only-of-type {\n",
       "        vertical-align: middle;\n",
       "    }\n",
       "\n",
       "    .dataframe tbody tr th {\n",
       "        vertical-align: top;\n",
       "    }\n",
       "\n",
       "    .dataframe thead th {\n",
       "        text-align: right;\n",
       "    }\n",
       "</style>\n",
       "<table border=\"1\" class=\"dataframe\">\n",
       "  <thead>\n",
       "    <tr style=\"text-align: right;\">\n",
       "      <th></th>\n",
       "      <th>weight</th>\n",
       "      <th>median</th>\n",
       "      <th>mode</th>\n",
       "      <th>constant</th>\n",
       "    </tr>\n",
       "  </thead>\n",
       "  <tbody>\n",
       "    <tr>\n",
       "      <th>286</th>\n",
       "      <td>NaN</td>\n",
       "      <td>62.0</td>\n",
       "      <td>-99.0</td>\n",
       "      <td>-99.0</td>\n",
       "    </tr>\n",
       "    <tr>\n",
       "      <th>389</th>\n",
       "      <td>NaN</td>\n",
       "      <td>62.0</td>\n",
       "      <td>-99.0</td>\n",
       "      <td>-99.0</td>\n",
       "    </tr>\n",
       "  </tbody>\n",
       "</table>\n",
       "</div>"
      ],
      "text/plain": [
       "     weight  median  mode  constant\n",
       "286     NaN    62.0 -99.0     -99.0\n",
       "389     NaN    62.0 -99.0     -99.0"
      ]
     },
     "metadata": {},
     "output_type": "display_data"
    },
    {
     "data": {
      "text/html": [
       "<div>\n",
       "<style scoped>\n",
       "    .dataframe tbody tr th:only-of-type {\n",
       "        vertical-align: middle;\n",
       "    }\n",
       "\n",
       "    .dataframe tbody tr th {\n",
       "        vertical-align: top;\n",
       "    }\n",
       "\n",
       "    .dataframe thead th {\n",
       "        text-align: right;\n",
       "    }\n",
       "</style>\n",
       "<table border=\"1\" class=\"dataframe\">\n",
       "  <thead>\n",
       "    <tr style=\"text-align: right;\">\n",
       "      <th></th>\n",
       "      <th>height</th>\n",
       "      <th>median</th>\n",
       "      <th>mode</th>\n",
       "      <th>constant</th>\n",
       "    </tr>\n",
       "  </thead>\n",
       "  <tbody>\n",
       "  </tbody>\n",
       "</table>\n",
       "</div>"
      ],
      "text/plain": [
       "Empty DataFrame\n",
       "Columns: [height, median, mode, constant]\n",
       "Index: []"
      ]
     },
     "metadata": {},
     "output_type": "display_data"
    }
   ],
   "source": [
    "\n",
    "_df = compare_imputers(df, 'weight', -99)\n",
    "display(_df[_df['weight'].isna()].head(5))\n",
    "\n",
    "\n",
    "_df = compare_imputers(df, 'height', -99)\n",
    "display(_df[_df['height'].isna()].head(5))\n"
   ]
  },
  {
   "cell_type": "code",
   "execution_count": null,
   "id": "caeef7ee-b871-4c1c-b12e-f438a78eace9",
   "metadata": {
    "lines_to_next_cell": 2
   },
   "outputs": [],
   "source": []
  },
  {
   "cell_type": "markdown",
   "id": "2dc32a95-c64f-44ff-b8e4-ccfc5f5c0511",
   "metadata": {},
   "source": [
    "## Opcion 3: completar usando info de las demas columnas (Multivariada)"
   ]
  },
  {
   "cell_type": "markdown",
   "id": "8f69da04-e225-4fef-a81c-994dcdebff17",
   "metadata": {},
   "source": [
    "Usa información de todas las variables para la imputación.<br>"
   ]
  },
  {
   "cell_type": "markdown",
   "id": "aec20695-c035-45f2-ae27-9c2977742577",
   "metadata": {},
   "source": [
    "Veamos un ejemplo con KNN (lo verán en detalle en las próximas clases)."
   ]
  },
  {
   "cell_type": "code",
   "execution_count": null,
   "id": "7c89e7d0-99f5-4b4c-8d3f-007b54726ccd",
   "metadata": {
    "lines_to_next_cell": 2
   },
   "outputs": [],
   "source": [
    "def hashing_encoding(df, cols, data_percent=0.85, verbose=False):\n",
    "    for i in cols:\n",
    "        val_counts = df[i].value_counts(dropna=False)\n",
    "        s = sum(val_counts.values)\n",
    "        h = val_counts.values / s\n",
    "        c_sum = np.cumsum(h)\n",
    "        c_sum = pd.Series(c_sum)\n",
    "        n = c_sum[c_sum > data_percent].index[0]\n",
    "        if verbose:\n",
    "            print(\"n hashing para \", i, \":\", n)\n",
    "        if n > 0:\n",
    "            fh = FeatureHasher(n_features=n, input_type='string')\n",
    "            hashed_features = fh.fit_transform(\n",
    "                df[i].astype(str).values.reshape(-1, 1)\n",
    "            ).todense()\n",
    "            df = df.join(pd.DataFrame(hashed_features).add_prefix(i + '_'))\n",
    "\n",
    "    return df.drop(columns=cols)\n",
    "\n",
    "\n",
    "def knn_imputer(df):\n",
    "\n",
    "    cat_cols = ['gender', 'eye_color', 'race', 'hair_color', 'publisher', 'skin_color']\n",
    "\n",
    "    # Aplicamos hashing para las categoricas\n",
    "    df = hashing_encoding(df, cat_cols)\n",
    "\n",
    "    # Eliminamos name y alignment para imputar\n",
    "    df = df.drop(columns=['name', 'alignment'])\n",
    "\n",
    "    # definimos un n arbitrario\n",
    "    imputer = KNNImputer(n_neighbors=2, weights=\"uniform\")\n",
    "    df = pd.DataFrame(imputer.fit_transform(df), columns=df.columns)\n",
    "    return df\n",
    "\n",
    "\n",
    "knn_imputation = knn_imputer(df).add_suffix('_knn')\n",
    "display(\n",
    "    df[['name', 'weight', 'height']]\n",
    "    .join(knn_imputation[['weight_knn', 'weight_knn']])[\n",
    "        (df.weight.isna() | df.height.isna())\n",
    "    ]\n",
    "    .head(5)\n",
    ")"
   ]
  },
  {
   "cell_type": "markdown",
   "id": "4f15c95e-9044-47a6-a1e4-5291a3b203cf",
   "metadata": {
    "lines_to_next_cell": 2
   },
   "source": [
    "IterativeImputer  \n",
    "https://scikit-learn.org/stable/modules/generated/sklearn.impute.IterativeImputer.html"
   ]
  },
  {
   "cell_type": "code",
   "execution_count": null,
   "id": "f53f60c1-b62f-4caa-ba7e-28640f81f346",
   "metadata": {},
   "outputs": [],
   "source": []
  },
  {
   "cell_type": "code",
   "execution_count": 56,
   "id": "15c831cd-d6ad-42b9-804f-086330d59ccd",
   "metadata": {},
   "outputs": [
    {
     "data": {
      "text/html": [
       "<div>\n",
       "<style scoped>\n",
       "    .dataframe tbody tr th:only-of-type {\n",
       "        vertical-align: middle;\n",
       "    }\n",
       "\n",
       "    .dataframe tbody tr th {\n",
       "        vertical-align: top;\n",
       "    }\n",
       "\n",
       "    .dataframe thead th {\n",
       "        text-align: right;\n",
       "    }\n",
       "</style>\n",
       "<table border=\"1\" class=\"dataframe\">\n",
       "  <thead>\n",
       "    <tr style=\"text-align: right;\">\n",
       "      <th></th>\n",
       "      <th>name</th>\n",
       "      <th>gender</th>\n",
       "      <th>eye_color</th>\n",
       "      <th>race</th>\n",
       "      <th>hair_color</th>\n",
       "      <th>height</th>\n",
       "      <th>publisher</th>\n",
       "      <th>skin_color</th>\n",
       "      <th>alignment</th>\n",
       "      <th>weight</th>\n",
       "    </tr>\n",
       "  </thead>\n",
       "  <tbody>\n",
       "    <tr>\n",
       "      <th>286</th>\n",
       "      <td>Godzilla</td>\n",
       "      <td>-</td>\n",
       "      <td>-</td>\n",
       "      <td>Kaiju</td>\n",
       "      <td>-</td>\n",
       "      <td>108.0</td>\n",
       "      <td>NaN</td>\n",
       "      <td>grey</td>\n",
       "      <td>bad</td>\n",
       "      <td>NaN</td>\n",
       "    </tr>\n",
       "    <tr>\n",
       "      <th>389</th>\n",
       "      <td>King Kong</td>\n",
       "      <td>Male</td>\n",
       "      <td>yellow</td>\n",
       "      <td>Animal</td>\n",
       "      <td>Black</td>\n",
       "      <td>30.5</td>\n",
       "      <td>NaN</td>\n",
       "      <td>-</td>\n",
       "      <td>good</td>\n",
       "      <td>NaN</td>\n",
       "    </tr>\n",
       "  </tbody>\n",
       "</table>\n",
       "</div>"
      ],
      "text/plain": [
       "          name gender eye_color    race hair_color  height publisher  \\\n",
       "286   Godzilla      -         -   Kaiju          -   108.0       NaN   \n",
       "389  King Kong   Male    yellow  Animal      Black    30.5       NaN   \n",
       "\n",
       "    skin_color alignment  weight  \n",
       "286       grey       bad     NaN  \n",
       "389          -      good     NaN  "
      ]
     },
     "execution_count": 56,
     "metadata": {},
     "output_type": "execute_result"
    }
   ],
   "source": [
    "df[df.weight.isna()]"
   ]
  },
  {
   "cell_type": "code",
   "execution_count": 63,
   "id": "60b00f5d-469b-40da-883c-2e9550dd3271",
   "metadata": {},
   "outputs": [],
   "source": [
    "df['weight_was_null'] = False\n",
    "df.loc[df.weight.isna(),'weight_was_null'] = True"
   ]
  },
  {
   "cell_type": "code",
   "execution_count": 67,
   "id": "3c37c496-0024-4bbb-a47d-e39bb764740b",
   "metadata": {},
   "outputs": [],
   "source": [
    "df['weight'].fillna(-99,inplace=True)"
   ]
  },
  {
   "cell_type": "code",
   "execution_count": 68,
   "id": "1e805166-eb2c-431d-b75a-7ba542e5dbf6",
   "metadata": {},
   "outputs": [
    {
     "data": {
      "text/html": [
       "<div>\n",
       "<style scoped>\n",
       "    .dataframe tbody tr th:only-of-type {\n",
       "        vertical-align: middle;\n",
       "    }\n",
       "\n",
       "    .dataframe tbody tr th {\n",
       "        vertical-align: top;\n",
       "    }\n",
       "\n",
       "    .dataframe thead th {\n",
       "        text-align: right;\n",
       "    }\n",
       "</style>\n",
       "<table border=\"1\" class=\"dataframe\">\n",
       "  <thead>\n",
       "    <tr style=\"text-align: right;\">\n",
       "      <th></th>\n",
       "      <th>name</th>\n",
       "      <th>gender</th>\n",
       "      <th>eye_color</th>\n",
       "      <th>race</th>\n",
       "      <th>hair_color</th>\n",
       "      <th>height</th>\n",
       "      <th>publisher</th>\n",
       "      <th>skin_color</th>\n",
       "      <th>alignment</th>\n",
       "      <th>weight</th>\n",
       "      <th>weight_was_null</th>\n",
       "    </tr>\n",
       "  </thead>\n",
       "  <tbody>\n",
       "    <tr>\n",
       "      <th>286</th>\n",
       "      <td>Godzilla</td>\n",
       "      <td>-</td>\n",
       "      <td>-</td>\n",
       "      <td>Kaiju</td>\n",
       "      <td>-</td>\n",
       "      <td>108.0</td>\n",
       "      <td>NaN</td>\n",
       "      <td>grey</td>\n",
       "      <td>bad</td>\n",
       "      <td>-99.0</td>\n",
       "      <td>True</td>\n",
       "    </tr>\n",
       "    <tr>\n",
       "      <th>389</th>\n",
       "      <td>King Kong</td>\n",
       "      <td>Male</td>\n",
       "      <td>yellow</td>\n",
       "      <td>Animal</td>\n",
       "      <td>Black</td>\n",
       "      <td>30.5</td>\n",
       "      <td>NaN</td>\n",
       "      <td>-</td>\n",
       "      <td>good</td>\n",
       "      <td>-99.0</td>\n",
       "      <td>True</td>\n",
       "    </tr>\n",
       "  </tbody>\n",
       "</table>\n",
       "</div>"
      ],
      "text/plain": [
       "          name gender eye_color    race hair_color  height publisher  \\\n",
       "286   Godzilla      -         -   Kaiju          -   108.0       NaN   \n",
       "389  King Kong   Male    yellow  Animal      Black    30.5       NaN   \n",
       "\n",
       "    skin_color alignment  weight  weight_was_null  \n",
       "286       grey       bad   -99.0             True  \n",
       "389          -      good   -99.0             True  "
      ]
     },
     "execution_count": 68,
     "metadata": {},
     "output_type": "execute_result"
    }
   ],
   "source": [
    "df[df['weight_was_null'] == True]"
   ]
  },
  {
   "cell_type": "markdown",
   "id": "cc8ce172-5045-4da8-a8a5-51b17bc5942b",
   "metadata": {},
   "source": [
    "***Comentario Final***:\n",
    "- A veces va a ayudar a los modelos que le digamos explicitamente que ese valor fue \"calculado\", eso\n",
    "le puede permitir al modelo elegir si darle un poco de menos importancia (relativa a las originales) si fue calculado."
   ]
  }
 ],
 "metadata": {
  "kernelspec": {
   "display_name": "Python 3 (ipykernel)",
   "language": "python",
   "name": "python3"
  },
  "language_info": {
   "codemirror_mode": {
    "name": "ipython",
    "version": 3
   },
   "file_extension": ".py",
   "mimetype": "text/x-python",
   "name": "python",
   "nbconvert_exporter": "python",
   "pygments_lexer": "ipython3",
   "version": "3.8.15"
  }
 },
 "nbformat": 4,
 "nbformat_minor": 5
}
